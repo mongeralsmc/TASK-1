{
 "cells": [
  {
   "cell_type": "code",
   "execution_count": 1,
   "id": "16038d03",
   "metadata": {},
   "outputs": [
    {
     "name": "stdout",
     "output_type": "stream",
     "text": [
      "Output of o1: 0.2720118609864486\n",
      "Output of o2: 0.823444322836681\n"
     ]
    }
   ],
   "source": [
    "\n",
    "def tanh(x):\n",
    "    return (2 / (1 + pow(2.718281828459045, -2 * x))) - 1  \n",
    "\n",
    "i1, i2 = 0.05, 0.10  \n",
    "\n",
    "\n",
    "w1, w2, w3, w4 = -0.15, 0.20, -0.25, 0.30\n",
    "w5, w6, w7, w8 = -0.40, 0.45, -0.50, 0.55\n",
    "\n",
    "\n",
    "b1, b2 = 0.5, 0.7\n",
    "\n",
    "\n",
    "h1_input = i1 * w1 + i2 * w3 + b1\n",
    "h2_input = i1 * w2 + i2 * w4 + b1\n",
    "h1_output = tanh(h1_input)\n",
    "h2_output = tanh(h2_input)\n",
    "\n",
    "\n",
    "o1_input = h1_output * w5 + h2_output * w7 + b2\n",
    "o2_input = h1_output * w6 + h2_output * w8 + b2\n",
    "o1_output = tanh(o1_input)\n",
    "o2_output = tanh(o2_input)\n",
    "\n",
    "\n",
    "print(\"Output of o1:\", o1_output)\n",
    "print(\"Output of o2:\", o2_output)"
   ]
  },
  {
   "cell_type": "code",
   "execution_count": null,
   "id": "957963a3",
   "metadata": {},
   "outputs": [],
   "source": []
  }
 ],
 "metadata": {
  "kernelspec": {
   "display_name": "Python 3 (ipykernel)",
   "language": "python",
   "name": "python3"
  },
  "language_info": {
   "codemirror_mode": {
    "name": "ipython",
    "version": 3
   },
   "file_extension": ".py",
   "mimetype": "text/x-python",
   "name": "python",
   "nbconvert_exporter": "python",
   "pygments_lexer": "ipython3",
   "version": "3.11.5"
  }
 },
 "nbformat": 4,
 "nbformat_minor": 5
}
